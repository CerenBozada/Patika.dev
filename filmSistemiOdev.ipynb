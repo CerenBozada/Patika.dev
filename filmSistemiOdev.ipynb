{
 "cells": [
  {
   "cell_type": "markdown",
   "metadata": {},
   "source": [
    "film sistem oop odevi:\n",
    "filmler listelenir,sıralanır, abone olunuabilir\n",
    "kullanıcı abone için kredi satın alır\n",
    "sadece abone olan kullanıcı film alır,kiralanınca hesabından film kadar kredi düşer\n",
    "normal kullanıcılar ve abonlere film satın alabilirler\n",
    "film mevcut değilse talep edilebilir"
   ]
  },
  {
   "cell_type": "code",
   "execution_count": null,
   "metadata": {},
   "outputs": [],
   "source": [
    "class Film:\n",
    "    def_init_(self, listelenir, siralanir,abone_ol):\n",
    "\n",
    "        self.listelenir = listelenir\n",
    "        self.siralanir = siralanir\n",
    "        self.abone_ol = abone_ol\n",
    "    def listele(self):\n",
    "        print(\"Listelenir\")\n",
    "    def sirala(self):\n",
    "        print(\"Siralanir\")\n",
    "    def abone_ol(self):\n",
    "        print(\"Abone Olur\") \n",
    "\n",
    "class Abone\n",
    "    def_init(self,kredi_alma,talep_et,kirala,satin_al):\n",
    "        self.kredi_alma = kredi_alma\n",
    "        self.talep_et = talep_et\n",
    "        self.kirala = kirala\n",
    "        self.satin_al = satin_al\n",
    "\n",
    "\n",
    "class Normalkullanici\n",
    "    def_init(self,satın_al,abone_ol):\n",
    "        self.satın_al = satın_al\n",
    "        self.abone_ol = abone_ol\n",
    "\n",
    "\n"
   ]
  }
 ],
 "metadata": {
  "language_info": {
   "name": "python"
  },
  "orig_nbformat": 4
 },
 "nbformat": 4,
 "nbformat_minor": 2
}
