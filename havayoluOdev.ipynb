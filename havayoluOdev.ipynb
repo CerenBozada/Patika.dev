{
 "cells": [
  {
   "cell_type": "markdown",
   "metadata": {},
   "source": [
    "oop havayolu sistem odevi:\n",
    "hava yolu şirketleri uçuş gerçeklştirir her hava yolunun bir kimliği var\n",
    "\n",
    "her hava yolu şirketi farklı tipteki uçaklara sahiptir\n",
    "uçaklar çalışır y a da narım durmunda olabilir\n",
    "benzersiz kimlik, kalkacağı ve ineceği havalimanı,kalkış ve iniş saatleri vardır\n",
    "her uçağın pilot -yardımcı pilot\n",
    "\n",
    "havalimanları benzersiz kimlikleri var\n",
    "pilotların deneyim seviyeleri var\n",
    "her uçak tipi belirli sayıa uçağa ihtiyaç duyabilir\n"
   ]
  },
  {
   "cell_type": "code",
   "execution_count": null,
   "metadata": {},
   "outputs": [],
   "source": [
    "class Havayolu:\n",
    "    def __init__(self,id,ucak):\n",
    "        self.id = id\n",
    "        self.ucak = ucak\n",
    "    \n",
    "\n",
    "class Ucak:\n",
    "    def __init__(self,kalkis,inis,kapasite,kalkis_havalimani,varis_havalimani,pilot_ihtiyaci,kullanilabilir,calisir):\n",
    "        self.kalkis = kalkis\n",
    "        self.inis = inis\n",
    "        self.kapasite = kapasite\n",
    "        self.kalkis_havalimani = kalkis_havalimani\n",
    "        self.varis_havalimani = varis_havalimani\n",
    "        self.pilot_ihtiyaci = pilot_ihtiyaci\n",
    "        self.kullanilabilir = kullanilabilir\n",
    "        self.calisir = calisir\n",
    "\n",
    "class Pilot:\n",
    "    def __init__(self,deneyim_seviyesi,yardimci,normal):\n",
    "        self.deneyim_seviyesi = deneyim_seviyesi\n",
    "        self.yardimci = yardimci\n",
    "        self.normal = normal\n",
    "\n",
    "    "
   ]
  }
 ],
 "metadata": {
  "language_info": {
   "name": "python"
  },
  "orig_nbformat": 4
 },
 "nbformat": 4,
 "nbformat_minor": 2
}
